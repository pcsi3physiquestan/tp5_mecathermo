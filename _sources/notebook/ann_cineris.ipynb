{
 "cells": [
  {
   "cell_type": "markdown",
   "id": "d8b44d2a",
   "metadata": {},
   "source": [
    "(cineris)=\n",
    "# Utilisation du logiciel CINERIS\n",
    "\n",
    "````{admonition} Manipulation préliminaire\n",
    ":class: tip\n",
    "Brancher la webcam sur un port USB de l'ordinateur puis lancer le logiciel CINERIS. Se rendre sur l'onglet Vidéo d'Atelier Scientifique, ou utiliser l'icône de caméra.\n",
    "````\n",
    "\n",
    "## Acquisition Vidéo\n",
    "\n",
    "_Il n'est pas nécessaire de modifier le répertoire d'enregistrement des vidéos mais sachez que celle-ci ne seront pas disponibles après la séances._ Vous pouvez garder l'acquisition rapide et choisir une durée d'acquisition suffisante grande, la vidéo sera coupée par la suite. Le bouton en bas à droite de l'onglet permet de lancer l'acquisition quand voûs êtes prêt.\n",
    "\n",
    "```{figure} ./images/Mecanique_Cineris_Acquisition.jpg\n",
    ":name: cineris_a\n",
    ":align: center\n",
    "Acquisition\n",
    "```\n",
    "\n",
    "## Montage\n",
    "````{panels}\n",
    "```{figure} ./images/Mecanique_Cineris_Montage.jpg\n",
    ":name: cineris_m\n",
    ":align: center\n",
    "```\n",
    "\n",
    "---\n",
    "1. Charge le fichier à traiter.\n",
    "2. Zoom la séquence vidéo dans la fenêtre de travail\n",
    "3. Boutons permettant le retour à la 1ère image, le recul image par image, la pause, la lecture, et l'avance image par image. Il est également possible de se déplacer dans le fichier à l'aide de l'ascenseur sous les boutons.\n",
    "4. Permet de sélectionner une partie du fichier ouvert en à l'aide des boutons précédent, on se positionne d'abord sur la 1ère image du montage et on coupe avec Début, puis on se positionne sur la dernière image et on coupe avec Fin.\n",
    "5.  Peu utile (ne pas choisir de format compressé).\n",
    "6.  Enregistre la séquence vidéo définie en au format AVI. \n",
    "\n",
    "__Utilisez le montage pour ne travailler que sur la partie de la vidéo où l'on voit la bille tomber.__\n",
    "````\n",
    "\n",
    "## Relevé automatique des points\n",
    "La qualité du contraste est telle qu'on ne réalisera pasd d'acquisition automatique mais uniquement des acquisitions manuelles.\n",
    "\n",
    "## Relevé manuel\n",
    "_Pensez à vous placer à la première image où l'on voit la bille._\n",
    "\n",
    "### Etalonnage\n",
    "````{panels} \n",
    "\n",
    "```{figure} ./images/Mecanique_Cineris_Etallonnage.jpg\n",
    ":name: cineris_e\n",
    ":align: center\n",
    "Etalonnage\n",
    "```\n",
    "---\n",
    "1. 8: Fixe l'origine du repère. Si l'on souhaite que l'origine coïncide avec une position particulière du mobile, choisir la bonne image et cliquer sur la position.\n",
    "2. 9: Fixe l'échelle des axes Ox et Oy par cliquer-glisser (jusqu'au bout de la flèche). Il est obligatoire d'avoir sur la séquence vidéo une référence des distances. Par défaut, le déplacement est soit horizontal, soit vertical, mais un appui sur la touche CTRL permet un déplacement dans toutes les directions.\n",
    "\n",
    "````\n",
    "\n",
    "### Relevé des points\n",
    "````{panels}\n",
    "1. Lancer le démarrage de l'acquisition grâce au bouton vert (5).\n",
    "2. Pour chaque image, cliquer sur la position de la bille. Le passage à l'image suivante est alors automatique.\n",
    "---\n",
    "```{figure} ./images/Mecanique_Cineris_Lancement.jpg\n",
    ":name: cineris_l\n",
    ":align: center\n",
    "Lancement\n",
    "```\n",
    "````"
   ]
  }
 ],
 "metadata": {
  "jupytext": {
   "encoding": "# -*- coding: utf-8 -*-",
   "formats": "ipynb,md:myst",
   "split_at_heading": true,
   "text_representation": {
    "extension": ".md",
    "format_name": "myst",
    "format_version": 0.13,
    "jupytext_version": "1.10.3"
   }
  },
  "kernelspec": {
   "display_name": "Python 3",
   "language": "python",
   "name": "python3"
  },
  "language_info": {
   "codemirror_mode": {
    "name": "ipython",
    "version": 3
   },
   "file_extension": ".py",
   "mimetype": "text/x-python",
   "name": "python",
   "nbconvert_exporter": "python",
   "pygments_lexer": "ipython3",
   "version": "3.9.15"
  },
  "source_map": [
   15
  ]
 },
 "nbformat": 4,
 "nbformat_minor": 5
}