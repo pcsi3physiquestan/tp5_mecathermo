{
 "cells": [
  {
   "cell_type": "markdown",
   "id": "republican-cleanup",
   "metadata": {},
   "source": [
    "# Travaux pratiques\n",
    "\n",
    "## Mise en garde\n",
    "\n",
    "````{attention} \n",
    "LES RÉSISTANCES CHAUFFANTES SONT TRÈS FRAGILES:\n",
    "* les manipuler avec soin\n",
    "* ne pas les poser n'importe comment sur la paillasse\n",
    "* NE LES ALIMENTER QUE SI ELLES PLONGENT DANS L'EAU\n",
    "\n",
    "````"
   ]
  }
 ],
 "metadata": {
  "jupytext": {
   "encoding": "# -*- coding: utf-8 -*-",
   "formats": "ipynb,md:myst",
   "split_at_heading": true,
   "text_representation": {
    "extension": ".md",
    "format_name": "myst",
    "format_version": 0.13,
    "jupytext_version": "1.10.3"
   }
  },
  "kernelspec": {
   "display_name": "Python 3",
   "language": "python",
   "name": "python3"
  },
  "language_info": {
   "codemirror_mode": {
    "name": "ipython",
    "version": 3
   },
   "file_extension": ".py",
   "mimetype": "text/x-python",
   "name": "python",
   "nbconvert_exporter": "python",
   "pygments_lexer": "ipython3",
   "version": "3.9.2"
  },
  "source_map": [
   15
  ]
 },
 "nbformat": 4,
 "nbformat_minor": 5
}