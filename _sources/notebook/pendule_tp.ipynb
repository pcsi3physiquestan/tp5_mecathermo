{
 "cells": [
  {
   "cell_type": "markdown",
   "id": "altered-essence",
   "metadata": {},
   "source": [
    "# Travaux pratiques\n",
    "_Note : Pour ce TP, on n'étudiera pas les incertitudes de mesure._\n",
    "\n",
    "## Étalonnage du dispositif de mesure\n",
    "\n",
    "On pourra acquérir la tension $u(t)$ à l'aide d'une console d'acquisition numérique et le signal sera alors traité avec le logiciel `Atelier Scientifique`.\n",
    "* Installer l'alimentation du potentiomètre et brancher la borne de mesure (avec sa référence) sur la console d'acquisition.\n",
    "* La relation entre la tension $u(t)$ et l'angle $\\theta(t)$ est affine. Grâce à deux mesures conjointes de l'angle et de la tension, déterminer la relation entre les deux grandeurs.\n",
    "* Créer une grandeur correspondant à l'angle dans le logiciel (`Traitement des données`).\n",
    "\n",
    "````{note}\n",
    "Une partie du traitement numérique se fera directement dans l'Atelier scientifique. Ainsi, après la première acquisition de $u(t)$ (en régime harmonique) et le calcul de $\\theta(t)$, il faudra :\n",
    "* réaliser le lissage de la grandeur (créer une grandeur `thetal` dans `Traitement des données - Lissage`. On choisira la méthode BSPLine en ajustant le degré des polynômes à l'oeil.)\n",
    "* calculer la dérivée numérique (`Traitement des données - Dérivation`)\n",
    "\n",
    "__Après chaque nouvelle acquisition, il n'est pas nécessaire de reconfigurer les grandeurs mais il faudra relancer manuellement le calcul (`Traitement des données`).__\n",
    "\n",
    "````\n",
    "\n",
    "## Etude sans frottements\n",
    "\n",
    "Dans cette partie on n'imposera aucun frottement (ni solide, ni fluide). Les choix des paramètres d'acquisition sont laissés libres. Il est juste conseillé de ne pas prendre une fréquence d'échantillonnage trop grande pour éviter les bruits électromagnétiques.\n",
    "\n",
    "### Cas harmonique\n",
    "````{admonition} Manipulation\n",
    ":class: tip\n",
    "1. Réaliser l'acquisition de $\\theta(t)$ pour le pendule sans frottements avec une amplitude d'oscillations faible (environ 10 à $20^{\\circ}$). On placer la masse à l'extrémité du pendule – veillez à bien la fixer et on mesurera précisément sa position.\n",
    "2. Vérifier sur l'allure temporelle (lissée) de l'angle et de la vitesse angulaire que l'hypothèse harmonique est acceptable visuellement.\n",
    "\n",
    "````\n",
    "\n",
    "````{admonition} Influence du moment d'inertie\n",
    ":class: tip\n",
    "Proposer un protocole expérimental permettant de vérifier la relation entre la période et le moment d'inertie donné dans l'étude préliminaire. Procéder à la vérification de cette relation.\n",
    "\n",
    "__La masse linéaire n'étant pas connue, il faudra réaliser une mesure préliminaire statique de $\\lambda$.__\n",
    "````\n",
    "\n",
    "````{admonition} Etude de l'harmonicité du système\n",
    ":class: tip\n",
    "Un modèle un peu plus complet propose une relation entre l'amplitude des oscillations et la période:\n",
    "\n",
    "\\begin{align}\n",
    "\tT =T_0 ( 1+ \\frac{\\theta_0^2}{16})& &\\textrm{(formule de Borda) }\n",
    "\\end{align}\n",
    "\n",
    "où $T_0$ est la période isochrone.\n",
    "\n",
    "1. Procéder à la mesure de la période des oscillations pour des amplitudes grandissantes jusqu'à $90^{\\circ}$ à moment d'inertie constant (placer le masse au milieu de la tige et vérifier qu'elle est bien fixée). Observe-t-on un isochronisme des oscillations ?\n",
    "2. Vérifier si la loi de Borda est conforme aux mesures.\n",
    "````\n",
    "\n",
    "### Cas d'un amortissement fluide\n",
    "\n",
    "On réalisera un amortissement fluide en remplissant grâce à un système magnétique qui, part induction (cf. cours) occasionne un couple assimilable à des frottements fluides linéaires.\n",
    "\n",
    "````{admonition} Etude du tracé temporel\n",
    " :class: tip\n",
    "1. Obtenir l'évolution temporelle de l'angle et de la vitesse angulaire et l'analyser. On déterminera, au moyen de méthode qu'on précisera la pseudo-période et le décrément logarithmique associé à ce régime.\n",
    "2. Déduire des mesures précédentes la pulsation propre et le coefficient d'amortissement du système. Comparer ces résultats au cas sans frottement.\n",
    " \n",
    " ````\n",
    "\n",
    "### Cas d'un amortissement solide\n",
    "\n",
    "Retirer les aimants et serrer la vis permettant la mise en place des frottements solides. On réglera ces frottements de manière à pouvoir observer plusieurs oscillations. On continuera à observer des oscillations aux petits mouvements.\n",
    "\n",
    "````{admonition} Etude du mouvement\n",
    ":class: tip\n",
    "1. Obtenir l'évolution temporelle du système. Observe-t-on les caractéristiques attendues? Mettre en évidence les différences fondamentales avec le cas de frottements fluides.\n",
    "2. Par une méthode qu'on précisera, remonter au couple de frottements solides.\n",
    "\n",
    "````"
   ]
  }
 ],
 "metadata": {
  "jupytext": {
   "encoding": "# -*- coding: utf-8 -*-",
   "formats": "ipynb,md:myst",
   "split_at_heading": true,
   "text_representation": {
    "extension": ".md",
    "format_name": "myst",
    "format_version": 0.13,
    "jupytext_version": "1.10.3"
   }
  },
  "kernelspec": {
   "display_name": "Python 3",
   "language": "python",
   "name": "python3"
  },
  "language_info": {
   "codemirror_mode": {
    "name": "ipython",
    "version": 3
   },
   "file_extension": ".py",
   "mimetype": "text/x-python",
   "name": "python",
   "nbconvert_exporter": "python",
   "pygments_lexer": "ipython3",
   "version": "3.9.2"
  },
  "source_map": [
   15
  ]
 },
 "nbformat": 4,
 "nbformat_minor": 5
}