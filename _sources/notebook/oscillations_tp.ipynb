{
 "cells": [
  {
   "cell_type": "markdown",
   "id": "134a8466",
   "metadata": {},
   "source": [
    "_Il s'agit d'une étude semi-qualitative. Il n'est pas nécessaire de déterminer les incertitudes de mesure._\n",
    "\n",
    "# Travaux pratiques\n",
    "__Il est inutile de télécharger le notebook. Les exploitations devront être réalisées sous Excel.__\n",
    "\n",
    "## Etude statique\n",
    "On rappelle que la loi de Hooke prévoit que l'allongement du ressort (écart à la longueur à vide du ressort) est proportionnel à la force appliquée à ses extrémités. La constante k de proportionnalité est appelée constante de raideur du ressort.\n",
    "\n",
    "````{admonition} Manipulatino\n",
    ":class: tip\n",
    "1. Proposer une étude statique permettant de vérifier la validité de la loi de Hooke puis, le cas échéant de remonter à la constante de raideur k et à la valeur de la longueur à vide. Procéder alors à la mesure des deux caractéristiques du ressort.\n",
    "````\n",
    "\n",
    "## Oscillations forcées\n",
    "\n",
    "````{admonition} Etude de la réponse fréquentielle\n",
    ":class: tip\n",
    "1. Accrocher la tige au ressort et enfiler (dans cet ordre) le couvercle du tube à remplir d'eau, deux masses, la palette moyenne et visser le boulon d'arrêt. Remplir le tube d'eau et installer les masses dedans. Fermer le couvercle du tube et faire attention à la verticalité de l'ensemble, afin d'éviter les frottements solides. Lancer l'oscillateur à la main et vérifier qu'il s'amortit rapidement. La masse ne doit pas sortir de l'eau.\n",
    "2. Déterminer la réponse en amplitude du système pour la gamme de fréquence accessible par le moteur. On représentera le diagramme de Bode en gain associée (tracé grâce au tableur demandé, non à la main).\n",
    "3. Analyser le diagramme de Bode pour remonter au facteur de qualité du système (on pourra remarquer qu'on dispose déjà de la pulsation propre du système).\n",
    "4. Comment obtenir, sans mesure supplémentaire, les amplitudes des réponses en vitesse? En déduire le tracé du diagramme de Bode de la réponse en vitesse puis l'analyser.\n",
    "````"
   ]
  }
 ],
 "metadata": {
  "jupytext": {
   "encoding": "# -*- coding: utf-8 -*-",
   "formats": "ipynb,md:myst",
   "split_at_heading": true,
   "text_representation": {
    "extension": ".md",
    "format_name": "myst",
    "format_version": 0.13,
    "jupytext_version": "1.10.3"
   }
  },
  "kernelspec": {
   "display_name": "Python 3",
   "language": "python",
   "name": "python3"
  },
  "language_info": {
   "codemirror_mode": {
    "name": "ipython",
    "version": 3
   },
   "file_extension": ".py",
   "mimetype": "text/x-python",
   "name": "python",
   "nbconvert_exporter": "python",
   "pygments_lexer": "ipython3",
   "version": "3.9.15"
  },
  "source_map": [
   15
  ]
 },
 "nbformat": 4,
 "nbformat_minor": 5
}