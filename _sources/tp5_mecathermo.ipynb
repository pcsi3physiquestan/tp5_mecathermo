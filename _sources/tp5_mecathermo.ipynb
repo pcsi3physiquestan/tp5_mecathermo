{
 "cells": [
  {
   "cell_type": "markdown",
   "id": "encouraging-border",
   "metadata": {},
   "source": [
    "# Mécanique et thermodynamique\n",
    "\n",
    "Cette séquence est divisée en 3 séries de TP :\n",
    "* Un TP de thermodynamique : l'étude énergétique d'un changement d'état par calorimétrie et l'étude de l'équation d'un état d'une mélange liquide-vapeur.\n",
    "* Un TP de mécanique sur l'étude des mouvements d'un pendule pesant\n",
    "* Un TP de mécanique divisé en deux parties : l'étude d'oscillations forcées et l'étude d'une chute libre dans de l'eau.\n",
    "\n",
    "\n",
    "\n",
    "\n",
    "```{toctree}\n",
    ":hidden:\n",
    ":titlesonly:\n",
    ":numbered: True\n",
    ":caption: Pendule pesant\n",
    "\n",
    "notebook/pendule_preliminaire\n",
    "notebook/pendule_tp\n",
    "```\n",
    "\n",
    "\n",
    "```{toctree}\n",
    ":hidden:\n",
    ":titlesonly:\n",
    ":numbered: True\n",
    ":caption: Oscillations forcées\n",
    "\n",
    "notebook/oscillations_preliminaire\n",
    "notebook/oscillations_tp\n",
    "```\n",
    "\n",
    "\n",
    "```{toctree}\n",
    ":hidden:\n",
    ":titlesonly:\n",
    ":numbered: True\n",
    ":caption: Chute libre\n",
    "\n",
    "notebook/chute_preliminaire\n",
    "notebook/chute_tp\n",
    "notebook/ann_cineris\n",
    "```\n",
    "\n",
    "\n",
    "```{toctree}\n",
    ":hidden:\n",
    ":titlesonly:\n",
    ":numbered: True\n",
    ":caption: Calorimétrie\n",
    "\n",
    "notebook/calorimetrie_preliminaire\n",
    "notebook/calorimetrie_tp\n",
    "```\n",
    "\n",
    "\n",
    "```{toctree}\n",
    ":hidden:\n",
    ":titlesonly:\n",
    ":numbered: True\n",
    ":caption: Changements d'état\n",
    "\n",
    "notebook/chgetat_preliminaire\n",
    "notebook/chgetat_tp\n",
    "```"
   ]
  }
 ],
 "metadata": {
  "jupytext": {
   "encoding": "# -*- coding: utf-8 -*-",
   "formats": "ipynb,md:myst",
   "split_at_heading": true,
   "text_representation": {
    "extension": ".md",
    "format_name": "myst",
    "format_version": 0.13,
    "jupytext_version": "1.10.3"
   }
  },
  "kernelspec": {
   "display_name": "Python 3",
   "language": "python",
   "name": "python3"
  },
  "language_info": {
   "codemirror_mode": {
    "name": "ipython",
    "version": 3
   },
   "file_extension": ".py",
   "mimetype": "text/x-python",
   "name": "python",
   "nbconvert_exporter": "python",
   "pygments_lexer": "ipython3",
   "version": "3.9.2"
  },
  "source_map": [
   15
  ]
 },
 "nbformat": 4,
 "nbformat_minor": 5
}