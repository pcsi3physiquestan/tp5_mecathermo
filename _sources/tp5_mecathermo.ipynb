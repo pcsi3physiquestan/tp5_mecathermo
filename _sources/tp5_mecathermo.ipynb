{
 "cells": [
  {
   "cell_type": "markdown",
   "id": "4d7759f8",
   "metadata": {},
   "source": [
    "# Mécanique et thermodynamique\n",
    "\n",
    "Cette séquence est divisée en 3 séries de TP :\n",
    "* Un TP de thermodynamique : l'étude énergétique d'un changement d'état par calorimétrie et l'étude de l'équation d'un état d'une mélange liquide-vapeur.\n",
    "* Un TP de mécanique sur l'étude des mouvements d'un pendule pesant\n",
    "* Un TP de mécanique divisé en deux parties : l'étude d'oscillations forcées et l'étude d'une chute libre dans de l'eau.\n",
    "\n",
    "__Compétences mises en jeu :__\n",
    "\n",
    "_Chute libre et oscillations forcées_\n",
    "\n",
    "| Compétences | Je sais de quoi ça parle | Je peux explier la méthode | Je sais l'appliquer |\n",
    "|:------------| :-:|:-:|:-:|\n",
    "|Évaluer, par comparaison à un étalon, une longueur (ou les coordonnées d’une position) sur une image numérique et en estimer la précision.||||\n",
    "|Enregistrer un phénomène à l’aide d’une caméra numérique et repérer la trajectoire à l’aide d’un logiciel dédié, en déduire la vitesse et l’accélération.||||\n",
    "|Mettre en œuvre un dispositif expérimental visant à caractériser un phénomène de résonance.||||\n",
    "|Mettre en œuvre un protocole expérimental permettant d’étudier une loi de force.||||\n",
    "\n",
    "\n",
    "\n",
    "_Calorimétrie et SF6_\n",
    "\n",
    "| Compétences | Je sais de quoi ça parle | Je peux explier la méthode | Je sais l'appliquer |\n",
    "|:------------| :-:|:-:|:-:|\n",
    "|Mettre en œuvre un capteur de température, par exemple avec l’aide d’un microcontrôleur.||||\n",
    "|Mettre en œuvre une technique de calorimétrie.||||\n",
    "|Mesurer une capacité thermique.||||\n",
    "|Etudier le tracé des isothermes d'un corps pur sous plusieurs phases.||||\n",
    "\n",
    "\n",
    "_Pendule pesant_\n",
    "\n",
    "| Compétences | Je sais de quoi ça parle | Je peux explier la méthode | Je sais l'appliquer |\n",
    "|:------------| :-:|:-:|:-:|\n",
    "|Réaliser l’acquisition d’un oscillateur harmonique et analyser ses caractéristiques (période).||||\n",
    "|Réaliser l’acquisition d’un régime transitoire pour un système linéaire du deuxième ordre et analyser ses caractéristiques (période, amortissement).||||\n",
    "|Mesure une caractéristique mécanique par une étude statique.||||"
   ]
  }
 ],
 "metadata": {
  "jupytext": {
   "encoding": "# -*- coding: utf-8 -*-",
   "formats": "ipynb,md:myst",
   "split_at_heading": true,
   "text_representation": {
    "extension": ".md",
    "format_name": "myst",
    "format_version": 0.13,
    "jupytext_version": "1.10.3"
   }
  },
  "kernelspec": {
   "display_name": "Python 3",
   "language": "python",
   "name": "python3"
  },
  "language_info": {
   "codemirror_mode": {
    "name": "ipython",
    "version": 3
   },
   "file_extension": ".py",
   "mimetype": "text/x-python",
   "name": "python",
   "nbconvert_exporter": "python",
   "pygments_lexer": "ipython3",
   "version": "3.9.15"
  },
  "source_map": [
   15
  ]
 },
 "nbformat": 4,
 "nbformat_minor": 5
}