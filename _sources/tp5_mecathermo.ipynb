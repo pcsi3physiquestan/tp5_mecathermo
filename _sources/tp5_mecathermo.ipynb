{
 "cells": [
  {
   "cell_type": "markdown",
   "id": "5b3056a9",
   "metadata": {},
   "source": [
    "# Mécanique et thermodynamique\n",
    "\n",
    "Cette séquence est divisée en 3 séries de TP :\n",
    "* Un TP de thermodynamique : l'étude énergétique d'un changement d'état par calorimétrie et l'étude de l'équation d'un état d'une mélange liquide-vapeur.\n",
    "* Un TP de mécanique sur l'étude des mouvements d'un pendule pesant\n",
    "* Un TP de mécanique divisé en deux parties : l'étude d'oscillations forcées et l'étude d'une chute libre dans de l'eau."
   ]
  }
 ],
 "metadata": {
  "jupytext": {
   "encoding": "# -*- coding: utf-8 -*-",
   "formats": "ipynb,md:myst",
   "split_at_heading": true,
   "text_representation": {
    "extension": ".md",
    "format_name": "myst",
    "format_version": 0.13,
    "jupytext_version": "1.10.3"
   }
  },
  "kernelspec": {
   "display_name": "Python 3",
   "language": "python",
   "name": "python3"
  },
  "language_info": {
   "codemirror_mode": {
    "name": "ipython",
    "version": 3
   },
   "file_extension": ".py",
   "mimetype": "text/x-python",
   "name": "python",
   "nbconvert_exporter": "python",
   "pygments_lexer": "ipython3",
   "version": "3.7.12"
  },
  "source_map": [
   15
  ]
 },
 "nbformat": 4,
 "nbformat_minor": 5
}